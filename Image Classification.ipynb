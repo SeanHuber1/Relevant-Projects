{
 "cells": [
  {
   "cell_type": "markdown",
   "metadata": {},
   "source": [
    "# MTH448 Project 6\n",
    "## Sean Huber"
   ]
  },
  {
   "cell_type": "markdown",
   "metadata": {},
   "source": [
    "# Introduction \n",
    "This project was about the classification of images using neural networks. For this project I used a data set containing various images including: airplanes, automobiles, and various animals. This sproject was a fun one to work on as it proved to be a good challenge. I put a lot of time into researching this so I could be well versed and explain everyhting as accurately as I could. "
   ]
  },
  {
   "cell_type": "code",
   "execution_count": 2,
   "metadata": {
    "colab": {
     "base_uri": "https://localhost:8080/"
    },
    "executionInfo": {
     "elapsed": 16612,
     "status": "ok",
     "timestamp": 1713855158711,
     "user": {
      "displayName": "Pouria Esmaeili",
      "userId": "11812197324450409733"
     },
     "user_tz": -210
    },
    "id": "tsy1UNKcOAy-",
    "outputId": "9bd473d8-3a5b-4f1d-b28b-723c4ef5d4b4"
   },
   "outputs": [
    {
     "name": "stdout",
     "output_type": "stream",
     "text": [
      "Requirement already satisfied: numpy in /usr/local/lib/python3.10/dist-packages (1.25.2)\n",
      "Requirement already satisfied: matplotlib in /usr/local/lib/python3.10/dist-packages (3.7.1)\n",
      "Requirement already satisfied: contourpy>=1.0.1 in /usr/local/lib/python3.10/dist-packages (from matplotlib) (1.2.1)\n",
      "Requirement already satisfied: cycler>=0.10 in /usr/local/lib/python3.10/dist-packages (from matplotlib) (0.12.1)\n",
      "Requirement already satisfied: fonttools>=4.22.0 in /usr/local/lib/python3.10/dist-packages (from matplotlib) (4.51.0)\n",
      "Requirement already satisfied: kiwisolver>=1.0.1 in /usr/local/lib/python3.10/dist-packages (from matplotlib) (1.4.5)\n",
      "Requirement already satisfied: numpy>=1.20 in /usr/local/lib/python3.10/dist-packages (from matplotlib) (1.25.2)\n",
      "Requirement already satisfied: packaging>=20.0 in /usr/local/lib/python3.10/dist-packages (from matplotlib) (24.0)\n",
      "Requirement already satisfied: pillow>=6.2.0 in /usr/local/lib/python3.10/dist-packages (from matplotlib) (9.4.0)\n",
      "Requirement already satisfied: pyparsing>=2.3.1 in /usr/local/lib/python3.10/dist-packages (from matplotlib) (3.1.2)\n",
      "Requirement already satisfied: python-dateutil>=2.7 in /usr/local/lib/python3.10/dist-packages (from matplotlib) (2.8.2)\n",
      "Requirement already satisfied: six>=1.5 in /usr/local/lib/python3.10/dist-packages (from python-dateutil>=2.7->matplotlib) (1.16.0)\n",
      "Requirement already satisfied: torch in /usr/local/lib/python3.10/dist-packages (2.2.1+cu121)\n",
      "Requirement already satisfied: torchvision in /usr/local/lib/python3.10/dist-packages (0.17.1+cu121)\n",
      "Requirement already satisfied: torchaudio in /usr/local/lib/python3.10/dist-packages (2.2.1+cu121)\n",
      "Requirement already satisfied: tqdm in /usr/local/lib/python3.10/dist-packages (4.66.2)\n",
      "Requirement already satisfied: filelock in /usr/local/lib/python3.10/dist-packages (from torch) (3.13.4)\n",
      "Requirement already satisfied: typing-extensions>=4.8.0 in /usr/local/lib/python3.10/dist-packages (from torch) (4.11.0)\n",
      "Requirement already satisfied: sympy in /usr/local/lib/python3.10/dist-packages (from torch) (1.12)\n",
      "Requirement already satisfied: networkx in /usr/local/lib/python3.10/dist-packages (from torch) (3.3)\n",
      "Requirement already satisfied: jinja2 in /usr/local/lib/python3.10/dist-packages (from torch) (3.1.3)\n",
      "Requirement already satisfied: fsspec in /usr/local/lib/python3.10/dist-packages (from torch) (2023.6.0)\n",
      "Requirement already satisfied: nvidia-cuda-nvrtc-cu12==12.1.105 in /usr/local/lib/python3.10/dist-packages (from torch) (12.1.105)\n",
      "Requirement already satisfied: nvidia-cuda-runtime-cu12==12.1.105 in /usr/local/lib/python3.10/dist-packages (from torch) (12.1.105)\n",
      "Requirement already satisfied: nvidia-cuda-cupti-cu12==12.1.105 in /usr/local/lib/python3.10/dist-packages (from torch) (12.1.105)\n",
      "Requirement already satisfied: nvidia-cudnn-cu12==8.9.2.26 in /usr/local/lib/python3.10/dist-packages (from torch) (8.9.2.26)\n",
      "Requirement already satisfied: nvidia-cublas-cu12==12.1.3.1 in /usr/local/lib/python3.10/dist-packages (from torch) (12.1.3.1)\n",
      "Requirement already satisfied: nvidia-cufft-cu12==11.0.2.54 in /usr/local/lib/python3.10/dist-packages (from torch) (11.0.2.54)\n",
      "Requirement already satisfied: nvidia-curand-cu12==10.3.2.106 in /usr/local/lib/python3.10/dist-packages (from torch) (10.3.2.106)\n",
      "Requirement already satisfied: nvidia-cusolver-cu12==11.4.5.107 in /usr/local/lib/python3.10/dist-packages (from torch) (11.4.5.107)\n",
      "Requirement already satisfied: nvidia-cusparse-cu12==12.1.0.106 in /usr/local/lib/python3.10/dist-packages (from torch) (12.1.0.106)\n",
      "Requirement already satisfied: nvidia-nccl-cu12==2.19.3 in /usr/local/lib/python3.10/dist-packages (from torch) (2.19.3)\n",
      "Requirement already satisfied: nvidia-nvtx-cu12==12.1.105 in /usr/local/lib/python3.10/dist-packages (from torch) (12.1.105)\n",
      "Requirement already satisfied: triton==2.2.0 in /usr/local/lib/python3.10/dist-packages (from torch) (2.2.0)\n",
      "Requirement already satisfied: nvidia-nvjitlink-cu12 in /usr/local/lib/python3.10/dist-packages (from nvidia-cusolver-cu12==11.4.5.107->torch) (12.4.127)\n",
      "Requirement already satisfied: numpy in /usr/local/lib/python3.10/dist-packages (from torchvision) (1.25.2)\n",
      "Requirement already satisfied: pillow!=8.3.*,>=5.3.0 in /usr/local/lib/python3.10/dist-packages (from torchvision) (9.4.0)\n",
      "Requirement already satisfied: MarkupSafe>=2.0 in /usr/local/lib/python3.10/dist-packages (from jinja2->torch) (2.1.5)\n",
      "Requirement already satisfied: mpmath>=0.19 in /usr/local/lib/python3.10/dist-packages (from sympy->torch) (1.3.0)\n"
     ]
    }
   ],
   "source": [
    "%pip install numpy\n",
    "%pip install matplotlib\n",
    "%pip install torch torchvision torchaudio tqdm"
   ]
  },
  {
   "cell_type": "markdown",
   "metadata": {},
   "source": [
    "I was having trouble with my Anaconda/JupyterLabs so I went ahead and redownloaded numpy, matplotlib, and torchvision."
   ]
  },
  {
   "cell_type": "markdown",
   "metadata": {
    "id": "lvOJX_QsOAy_"
   },
   "source": [
    "### Import Libs"
   ]
  },
  {
   "cell_type": "code",
   "execution_count": 6,
   "metadata": {
    "executionInfo": {
     "elapsed": 5764,
     "status": "ok",
     "timestamp": 1713855167626,
     "user": {
      "displayName": "Pouria Esmaeili",
      "userId": "11812197324450409733"
     },
     "user_tz": -210
    },
    "id": "cOR9xJtpOAy_"
   },
   "outputs": [],
   "source": [
    "import torch\n",
    "import torch.nn as nn\n",
    "import torch.nn.functional as Functions\n",
    "import torch.optim as Optimizers\n",
    "\n",
    "from torchvision.datasets import CIFAR10\n",
    "from torchvision.transforms import ToTensor\n",
    "from torch.utils.data import DataLoader\n",
    "from tqdm.auto import tqdm\n",
    "\n",
    "import matplotlib.pyplot as plt"
   ]
  },
  {
   "cell_type": "markdown",
   "metadata": {},
   "source": [
    "I then went ahead and downloaded all the required libraries necessary for me to build and the code. That includes computations and graph making."
   ]
  },
  {
   "cell_type": "markdown",
   "metadata": {
    "id": "fiUlDhmlOAzA"
   },
   "source": [
    "### Set Device"
   ]
  },
  {
   "cell_type": "code",
   "execution_count": 7,
   "metadata": {
    "colab": {
     "base_uri": "https://localhost:8080/"
    },
    "executionInfo": {
     "elapsed": 355,
     "status": "ok",
     "timestamp": 1713855170409,
     "user": {
      "displayName": "Pouria Esmaeili",
      "userId": "11812197324450409733"
     },
     "user_tz": -210
    },
    "id": "75PwZw1FOAzA",
    "outputId": "a4e053ae-5d81-43a8-b0e2-6d464f993c50"
   },
   "outputs": [
    {
     "name": "stdout",
     "output_type": "stream",
     "text": [
      "cpu\n"
     ]
    }
   ],
   "source": [
    "device = \"cuda\" if torch.cuda.is_available() else \"cpu\"\n",
    "print(device)"
   ]
  },
  {
   "cell_type": "markdown",
   "metadata": {},
   "source": [
    "The provided code block checks for the availability of a CUDA-capable GPU on the system using the PyTorch function `torch.cuda.is_available()`. If a GPU is available, it sets the `device` variable to `\"cuda\"`, allowing PyTorch to utilize the GPU for tensor computations and potentially enhance the performance of machine learning tasks. If no GPU is available, the `device` variable is set to `\"cpu\"`, directing PyTorch to use the central processing unit for computations. The result is then printed, indicating whether computations will be performed on a GPU or CPU. This dynamic allocation ensures optimal use of available hardware resources without manual configuration."
   ]
  },
  {
   "cell_type": "markdown",
   "metadata": {
    "id": "y8etnq19OAzA"
   },
   "source": [
    "### Download CIFAR-10 Dataset and Transform to Tensor"
   ]
  },
  {
   "cell_type": "code",
   "execution_count": 8,
   "metadata": {
    "colab": {
     "base_uri": "https://localhost:8080/"
    },
    "executionInfo": {
     "elapsed": 8568,
     "status": "ok",
     "timestamp": 1713855180307,
     "user": {
      "displayName": "Pouria Esmaeili",
      "userId": "11812197324450409733"
     },
     "user_tz": -210
    },
    "id": "8__iTTSIOAzB",
    "outputId": "35883f54-f5c1-4d60-e403-c7812b954d54"
   },
   "outputs": [
    {
     "name": "stdout",
     "output_type": "stream",
     "text": [
      "Files already downloaded and verified\n",
      "Files already downloaded and verified\n"
     ]
    }
   ],
   "source": [
    "transform = ToTensor()\n",
    "\n",
    "\"Set download=True to download dataset online\"\n",
    "data_path = './data_cifar/'\n",
    "cifar10_train = CIFAR10(data_path, train=True, download=True, transform=transform)\n",
    "cifar10_test = CIFAR10(data_path, train=False, download=True, transform=transform)"
   ]
  },
  {
   "cell_type": "markdown",
   "metadata": {},
   "source": [
    "The code snippet initializes a transformation for image data using the `ToTensor()` method, which converts image data into PyTorch tensors and scales the pixel values to the range [0, 1]. It sets up a directory `data_path` to store the CIFAR-10 dataset. The dataset is then downloaded and loaded into two separate sets: training (`cifar10_train`) and testing (`cifar10_test`). The `download=True` parameter instructs the CIFAR10 function to download the dataset from the internet if it's not already present in the specified directory. This approach ensures that the data is ready for use in machine learning models, with transformations applied for compatibility with PyTorch processing requirements."
   ]
  },
  {
   "cell_type": "markdown",
   "metadata": {
    "id": "JP7JQ8SnOAzB"
   },
   "source": [
    "### A Brief View on Data"
   ]
  },
  {
   "cell_type": "code",
   "execution_count": 18,
   "metadata": {
    "colab": {
     "base_uri": "https://localhost:8080/"
    },
    "executionInfo": {
     "elapsed": 538,
     "status": "ok",
     "timestamp": 1713855195379,
     "user": {
      "displayName": "Pouria Esmaeili",
      "userId": "11812197324450409733"
     },
     "user_tz": -210
    },
    "id": "LHXPuKeIOAzB",
    "outputId": "5d3f8dfe-33dc-42d2-d74e-f2ee1c2b345a"
   },
   "outputs": [
    {
     "name": "stdout",
     "output_type": "stream",
     "text": [
      "Files already downloaded and verified\n",
      "Files already downloaded and verified\n",
      "Training set size:  50000\n",
      "Testing set size:  10000\n",
      "Data type of training example: <class 'tuple'>\n",
      "Type of the image data: <class 'torch.Tensor'>\n",
      "Dimensions of the image tensor: torch.Size([3, 32, 32])\n",
      "List of classes: ['airplane', 'automobile', 'bird', 'cat', 'deer', 'dog', 'frog', 'horse', 'ship', 'truck']\n",
      "Label of the image: 6\n",
      "Class name of the image: frog\n"
     ]
    }
   ],
   "source": [
    "import torchvision\n",
    "import torchvision.transforms as transforms\n",
    "\n",
    "# Load CIFAR-10 dataset\n",
    "transform = transforms.Compose([transforms.ToTensor()])\n",
    "cifar10_train = torchvision.datasets.CIFAR10(root='./data', train=True, download=True, transform=transform)\n",
    "cifar10_test = torchvision.datasets.CIFAR10(root='./data', train=False, download=True, transform=transform)\n",
    "\n",
    "# Display the size of the training and testing datasets\n",
    "print(\"Training set size: \", len(cifar10_train))\n",
    "print(\"Testing set size: \", len(cifar10_test))\n",
    "\n",
    "# Display the type of a training example (should be a tuple)\n",
    "print(\"Data type of training example:\", type(cifar10_train[0]))\n",
    "\n",
    "# Extracting an image and its label from the training set\n",
    "image, label = cifar10_train[0]\n",
    "print(\"Type of the image data:\", type(image))\n",
    "\n",
    "# Checking the dimensions of the image tensor\n",
    "print(\"Dimensions of the image tensor:\", image.shape)\n",
    "\n",
    "# Retrieving and displaying the class names\n",
    "classes = cifar10_train.classes\n",
    "print(\"List of classes:\", classes)\n",
    "\n",
    "# Displaying the label of the first image and its corresponding class name\n",
    "print(\"Label of the image:\", label)\n",
    "print(\"Class name of the image:\", classes[label])\n"
   ]
  },
  {
   "cell_type": "markdown",
   "metadata": {},
   "source": [
    "The code snippet provided performs several operations to inspect and describe the CIFAR-10 dataset loaded into the variables `cifar10_train` and `cifar10_test` using PyTorch. It begins by printing the sizes of these datasets, indicating how many images are available for training and testing. The data structure of the dataset entries is confirmed as tuples containing a tensor (the image data) and a label (the image class).\r\n",
    "\r\n",
    "Further, it retrieves the first image and its label from the training set to explore individual entries. The type of the image is confirmed to be a PyTorch tensor, which is standard for image data in machine learning tasks. The dimensions of the tensor are printed to verify that each image is a 32x32 pixel image with three color channels (RGB).\r\n",
    "\r\n",
    "Additionally, the code lists all the classes present in the CIFAR-10 dataset, providing a view of the different categories of images that the model will learn to classify. The label of the first image is printed both as a numerical index and as a human-readable class name, linking the numerical label to its corresponding class. This comprehensive check ensures that the dataset is correctly loaded and formatted, making it ready for use in training and testing machine learning models."
   ]
  },
  {
   "cell_type": "markdown",
   "metadata": {
    "id": "p503qV8XOAzC"
   },
   "source": [
    "### Define Batch Size"
   ]
  },
  {
   "cell_type": "code",
   "execution_count": 10,
   "metadata": {
    "executionInfo": {
     "elapsed": 8,
     "status": "ok",
     "timestamp": 1713855198123,
     "user": {
      "displayName": "Pouria Esmaeili",
      "userId": "11812197324450409733"
     },
     "user_tz": -210
    },
    "id": "ByvREeU5OAzC"
   },
   "outputs": [],
   "source": [
    "train_loader = DataLoader(cifar10_train, batch_size=64, shuffle=True)\n",
    "test_loader = DataLoader(cifar10_test, batch_size=64, shuffle=False)"
   ]
  },
  {
   "cell_type": "markdown",
   "metadata": {},
   "source": [
    "The provided code sets up data loaders for the CIFAR-10 training and testing datasets using PyTorch's `DataLoader` class. The `DataLoader` is configured with a batch size of 64, which determines how many images are processed together in one pass of the model. The `shuffle=True` parameter for the training loader ensures that the dataset is shuffled before each epoch begins, promoting model generalization by reducing the likelihood of the model learning the order of the data. For the testing loader, `shuffle=False` is used because shuffling is unnecessary during model evaluation; the focus is on assessing performance consistently across the same sequence of test data.\r\n",
    "\r\n",
    "This setup is essential for managing memory usage effectively while training the model, as it allows the model to learn from different subsets of the data across different epochs. Adjusting the batch size can impact both the training speed and the model's convergence behavior, with smaller batch sizes often providing a noisier gradient estimate, which can help escape local minima, while larger batch sizes offer a more stable but computationally expensive training process."
   ]
  },
  {
   "cell_type": "markdown",
   "metadata": {
    "id": "UmW_VNilOAzC"
   },
   "source": [
    "### Define Model"
   ]
  },
  {
   "cell_type": "code",
   "execution_count": 20,
   "metadata": {
    "executionInfo": {
     "elapsed": 446,
     "status": "ok",
     "timestamp": 1713855572295,
     "user": {
      "displayName": "Pouria Esmaeili",
      "userId": "11812197324450409733"
     },
     "user_tz": -210
    },
    "id": "aKuk69NIOAzC"
   },
   "outputs": [],
   "source": [
    "import torch.nn as nn\n",
    "\n",
    "class CIFAR10Classifier(nn.Module):\n",
    "    def __init__(self):\n",
    "        super(CIFAR10Classifier, self).__init__()\n",
    "\n",
    "        # Define the convolutional layers\n",
    "        self.conv1 = nn.Conv2d(in_channels=3, out_channels=32, kernel_size=3, padding=1)\n",
    "        self.conv2 = nn.Conv2d(in_channels=32, out_channels=64, kernel_size=3, padding=1)\n",
    "        self.conv3 = nn.Conv2d(in_channels=64, out_channels=128, kernel_size=3, padding=1)\n",
    "\n",
    "        # Define the pooling layer\n",
    "        self.pool = nn.MaxPool2d(kernel_size=2, stride=2)\n",
    "\n",
    "        # Define the fully connected layers\n",
    "        self.fc1 = nn.Linear(in_features=128 * 4 * 4, out_features=512)\n",
    "        self.fc2 = nn.Linear(in_features=512, out_features=10)\n",
    "\n",
    "        # Define the activation function\n",
    "        self.relu = nn.ReLU()\n",
    "\n",
    "    def forward(self, x):\n",
    "        # Apply convolutional layers, followed by max pooling and ReLU activation\n",
    "        x = self.pool(self.relu(self.conv1(x)))\n",
    "        x = self.pool(self.relu(self.conv2(x)))\n",
    "        x = self.pool(self.relu(self.conv3(x)))\n",
    "\n",
    "        # Flatten the output from the convolutional layers to input into the fully connected layers\n",
    "        x = x.view(-1, 128 * 4 * 4)\n",
    "\n",
    "        # Apply the first fully connected layer and ReLU activation\n",
    "        x = self.relu(self.fc1(x))\n",
    "\n",
    "        # Output layer\n",
    "        x = self.fc2(x)\n",
    "\n",
    "        return x\n"
   ]
  },
  {
   "cell_type": "markdown",
   "metadata": {},
   "source": [
    "The provided code defines a neural network class named `Model`, which inherits from `nn.Module` in the PyTorch library. The `Model` class initializes several layers and specifies how data should flow through the network during the forward pass:\r\n",
    "\r\n",
    "1. **Layer Initialization**:\r\n",
    "   - **Convolutional Layers**: Three convolutional layers (`conv1`, `conv2`, `conv3`) are defined. Each layer uses kernels of size 3x3 with padding set to 1 to maintain the spatial dimensions of the input. The number of output channels increases progressively across the layers from 32 to 64, and finally to 128. These layers are intended to extract progressively higher-level features from the input images.\r\n",
    "   - **Pooling Layer**: A max pooling layer (`pool`) with a 2x2 window and stride of 2 reduces the spatial dimensions of the feature maps by half, effectively downsampling the input while retaining significant features.\r\n",
    "   - **Fully Connected Layers**: Two fully connected layers (`fc1` and `fc2`) are included to transform the learned high-level feature representations into class scores. The first fully connected layer flattens the output from the last convolutional layer and transforms it to a 512-dimensional feature vector. The second fully connected layer maps this feature vector to the final output classes (10 classes for CIFAR-10).\r\n",
    "   - **Activation Function**: The ReLU activation function (`relu`) is applied after each convolutional and fully connected layer (except the output layer) to introduce non-linearity into the model, allowing it to learn more complex patterns in the data.\r\n",
    "\r\n",
    "2. **Forward Path**:\r\n",
    "   - Data (`x`) is passed through the first convolutional layer, followed by ReLU activation and pooling.\r\n",
    "   - This process is repeated for the second and third convolutional layers.\r\n",
    "   - After the final pooling step, the data is flattened to match the input dimension required by the first fully connected layer.\r\n",
    "   - The flattened data is then passed through the first fully connected layer, followed by ReLU activation, and finally through the second fully connected layer to produce the output logits corresponding to the class scores.\r\n",
    "\r\n",
    "This setup is typical for a convolutional neural network dealing with image data, where convolutional layers are used for feature extraction and pooling layers reduce the dimensionality, followed by fully connected layers to perform classification based on the features extracted. The architecture is designed to be robust for tasks such as image classification on the CIFAR-10 dataset, capturing both low-level and high-level features of the images."
   ]
  },
  {
   "cell_type": "markdown",
   "metadata": {
    "id": "s4F9c6mtOAzC"
   },
   "source": [
    "### Create Model"
   ]
  },
  {
   "cell_type": "code",
   "execution_count": 12,
   "metadata": {
    "colab": {
     "base_uri": "https://localhost:8080/"
    },
    "executionInfo": {
     "elapsed": 405,
     "status": "ok",
     "timestamp": 1713855580083,
     "user": {
      "displayName": "Pouria Esmaeili",
      "userId": "11812197324450409733"
     },
     "user_tz": -210
    },
    "id": "HejI9cHVOAzD",
    "outputId": "4697ac91-9352-4409-f0c4-e8240e3f1642"
   },
   "outputs": [
    {
     "data": {
      "text/plain": [
       "Model(\n",
       "  (conv1): Conv2d(3, 32, kernel_size=(3, 3), stride=(1, 1), padding=(1, 1))\n",
       "  (conv2): Conv2d(32, 64, kernel_size=(3, 3), stride=(1, 1), padding=(1, 1))\n",
       "  (conv3): Conv2d(64, 128, kernel_size=(3, 3), stride=(1, 1), padding=(1, 1))\n",
       "  (pool): MaxPool2d(kernel_size=2, stride=2, padding=0, dilation=1, ceil_mode=False)\n",
       "  (fc1): Linear(in_features=2048, out_features=512, bias=True)\n",
       "  (fc2): Linear(in_features=512, out_features=10, bias=True)\n",
       "  (relu): ReLU()\n",
       ")"
      ]
     },
     "execution_count": 12,
     "metadata": {},
     "output_type": "execute_result"
    }
   ],
   "source": [
    "model = Model().to(device)\n",
    "model"
   ]
  },
  {
   "cell_type": "code",
   "execution_count": null,
   "metadata": {},
   "outputs": [],
   "source": [
    "The code snippet initializes an instance of a neural network `Model`, defined in the previous code block, and transfers it to a computational device (either CPU or GPU) specified by the `device` variable. Here’s a breakdown of each step and what it accomplishes:\r\n",
    "\r\n",
    "1. **Model Initialization**:\r\n",
    "   - `Model()`: This creates an instance of the `Model` class. The `Model` class contains multiple layers and configurations defined to handle specific types of input data—in this case, image data for tasks such as classification. The class must have been previously defined and include the necessary structure to process input through convolutional and fully connected layers.\r\n",
    "\r\n",
    "2. **Device Allocation**:\r\n",
    "   - `.to(device)`: This method is called on the model instance to ensure that all computations for the model are performed on the specified device. The `device` variable is typically set to `\"cuda\"` if a CUDA-capable GPU is available, or `\"cpu\"` otherwise. This is crucial for performance optimization, as running large models on a GPU significantly speeds up training times compared to a CPU.\r\n",
    "\r\n",
    "3. **Model Ready for Use**:\r\n",
    "   - After these steps, the `model` variable holds the neural network that is ready to be used for training or inference, with all parameters initialized and allocated to the appropriate device. This setup is essential for subsequent steps in a machine learning workflow, such as training the model with data, evaluating its performance, and using it to make predictions.\r\n",
    "\r\n",
    "This approach is standard in PyTorch workflows for setting up models for deep learning tasks, facilitating a smooth transition between model initialization, device allocation, and execution of training or inference operations."
   ]
  },
  {
   "cell_type": "markdown",
   "metadata": {
    "id": "3YcVXlkPOAzD"
   },
   "source": [
    "### Choose a Loss Function"
   ]
  },
  {
   "cell_type": "code",
   "execution_count": 13,
   "metadata": {
    "executionInfo": {
     "elapsed": 3,
     "status": "ok",
     "timestamp": 1713855581339,
     "user": {
      "displayName": "Pouria Esmaeili",
      "userId": "11812197324450409733"
     },
     "user_tz": -210
    },
    "id": "Yp2B4OliOAzD"
   },
   "outputs": [],
   "source": [
    "criterion = nn.CrossEntropyLoss()"
   ]
  },
  {
   "cell_type": "markdown",
   "metadata": {
    "id": "Y4JickZ3OAzD"
   },
   "source": [
    "### Choose an Optimizer"
   ]
  },
  {
   "cell_type": "code",
   "execution_count": 14,
   "metadata": {
    "executionInfo": {
     "elapsed": 4,
     "status": "ok",
     "timestamp": 1713855624885,
     "user": {
      "displayName": "Pouria Esmaeili",
      "userId": "11812197324450409733"
     },
     "user_tz": -210
    },
    "id": "_rHSYd2MOAzD"
   },
   "outputs": [],
   "source": [
    "optimizer = Optimizers.SGD(model.parameters(), lr=0.01, momentum=0.9)"
   ]
  },
  {
   "cell_type": "markdown",
   "metadata": {
    "id": "SlU-gJoeOAzD"
   },
   "source": [
    "### Training Model"
   ]
  },
  {
   "cell_type": "code",
   "execution_count": 3,
   "metadata": {},
   "outputs": [],
   "source": [
    "from tqdm import tqdm"
   ]
  },
  {
   "cell_type": "code",
   "execution_count": 21,
   "metadata": {
    "colab": {
     "base_uri": "https://localhost:8080/",
     "height": 49,
     "referenced_widgets": [
      "94a8edd7f3d744bb93484adb830cfac7",
      "59ba4c18619842cd817c011363d246dd",
      "41e23c85875240a7966934be57c42f36",
      "bdfdb96e667549c2b3107addc28d478a",
      "3c2244ab27294e81b4e1ea68d225f72f",
      "538d4b903cb5472991e23f95d6ef795c",
      "4607f1d326a24bcebfecf6fa2da03e9d",
      "a4cebbcf5cbc48ff95bbb36f02aeffac",
      "e443ded0d4874c718c37ddd8710b6a5f",
      "81553aec42554725966ccd2c642c2cfc",
      "fed0741efbd742219955a856dea58927"
     ]
    },
    "executionInfo": {
     "elapsed": 209124,
     "status": "ok",
     "timestamp": 1713855835517,
     "user": {
      "displayName": "Pouria Esmaeili",
      "userId": "11812197324450409733"
     },
     "user_tz": -210
    },
    "id": "3T9ax0NqOAzD",
    "outputId": "f517030f-f5ff-46ca-b1ce-0a97698028df"
   },
   "outputs": [
    {
     "name": "stderr",
     "output_type": "stream",
     "text": [
      "Training Progress: 100%|██████████| 20/20 [49:42<00:00, 149.14s/it]"
     ]
    },
    {
     "name": "stdout",
     "output_type": "stream",
     "text": [
      "Best Training Accuracy: 98.41%\n",
      "Best Testing Accuracy: 73.90%\n"
     ]
    },
    {
     "name": "stderr",
     "output_type": "stream",
     "text": [
      "\n"
     ]
    }
   ],
   "source": [
    "import torch\n",
    "from tqdm import tqdm\n",
    "\n",
    "EPOCHS = 20\n",
    "\n",
    "# Lists to store accuracy per epoch\n",
    "train_correct = []\n",
    "test_correct = []\n",
    "\n",
    "# Track the best accuracy\n",
    "best_train_acc = 0\n",
    "best_test_acc = 0\n",
    "\n",
    "# Training and evaluation loop\n",
    "for epoch in tqdm(range(EPOCHS), desc=\"Training Progress\"):\n",
    "\n",
    "    # Variables to track correct predictions for each phase\n",
    "    train_correct_count = 0\n",
    "    test_correct_count = 0\n",
    "\n",
    "    # Training phase\n",
    "    model.train()\n",
    "    for X_train, y_train in train_loader:\n",
    "        # Transfer data to the appropriate device (GPU or CPU)\n",
    "        X_train = X_train.to(device)\n",
    "        y_train = y_train.to(device)\n",
    "\n",
    "        # Reset gradients\n",
    "        optimizer.zero_grad()\n",
    "\n",
    "        # Forward pass\n",
    "        y_pred = model(X_train)\n",
    "        loss = criterion(y_pred, y_train)\n",
    "\n",
    "        # Backward pass and optimize\n",
    "        loss.backward()\n",
    "        optimizer.step()\n",
    "\n",
    "        # Calculate the number of correct predictions\n",
    "        predictions = torch.argmax(y_pred, dim=1)\n",
    "        train_correct_count += (predictions == y_train).sum().item()\n",
    "\n",
    "    # Calculate training accuracy for the epoch\n",
    "    train_accuracy = train_correct_count / len(train_loader.dataset)\n",
    "    train_correct.append(train_accuracy)\n",
    "    best_train_acc = max(best_train_acc, train_accuracy)\n",
    "\n",
    "    # Evaluation phase\n",
    "    model.eval()\n",
    "    with torch.no_grad():\n",
    "        for X_test, y_test in test_loader:\n",
    "            # Transfer data to the appropriate device\n",
    "            X_test = X_test.to(device)\n",
    "            y_test = y_test.to(device)\n",
    "\n",
    "            # Forward pass\n",
    "            test_pred = model(X_test)\n",
    "            predictions = torch.argmax(test_pred, dim=1)\n",
    "\n",
    "            # Calculate the number of correct predictions\n",
    "            test_correct_count += (predictions == y_test).sum().item()\n",
    "\n",
    "    # Calculate testing accuracy for the epoch\n",
    "    test_accuracy = test_correct_count / len(test_loader.dataset)\n",
    "    test_correct.append(test_accuracy)\n",
    "    best_test_acc = max(best_test_acc, test_accuracy)\n",
    "\n",
    "# Output the best accuracies achieved\n",
    "print(f\"Best Training Accuracy: {best_train_acc*100:.2f}%\")\n",
    "print(f\"Best Testing Accuracy: {best_test_acc*100:.2f}%\")\n"
   ]
  },
  {
   "cell_type": "markdown",
   "metadata": {},
   "source": [
    "The code block provides a complete setup for training and evaluating a neural network model on a dataset, structured around epochs and utilizing training and test data loaders. Here’s a detailed explanation of each part:\r\n",
    "\r\n",
    "1. **Epoch and Metrics Initialization**:\r\n",
    "   - `EPOCHS = 20`: Sets the number of times the entire dataset is processed by the model, known as epochs.\r\n",
    "   - `train_correct` and `test_correct`: Lists to store accuracy metrics for each epoch for both training and testing phases.\r\n",
    "   - `best_train_acc` and `best_test_acc`: Variables to keep track of the highest accuracy achieved during the training and testing phases, respectively.\r\n",
    "\r\n",
    "2. **Training and Testing Loop**:\r\n",
    "   - The loop `for e in tqdm(range(EPOCHS)):` iterates over the specified number of epochs, using `tqdm` to display a progress bar for visual feedback on the training process.\r\n",
    "   - `trn_corr` and `tst_corr`: Variables initialized to zero at the start of each epoch to count the number of correct predictions in training and testing, respectively.\r\n",
    "\r\n",
    "3. **Training Phase**:\r\n",
    "   - `model.train()`: Puts the model in training mode, which is necessary for correctly applying layers like dropout and batch normalization.\r\n",
    "   - Inside the training loop (`for X_train, y_train in train_loader:`), data batches are processed where:\r\n",
    "     - `X_train_dev` and `y_train_dev`: Variables are loaded onto the device (GPU or CPU) and wrapped in `Variable`, a deprecated feature in PyTorch but used here for compatibility.\r\n",
    "     - `optimizer.zero_grad()`: Clears old gradients from the last step (otherwise they will be accumulated).\r\n",
    "     - `y_pred_dev = model(X_train_dev)`: Passes the batch through the model to get predictions.\r\n",
    "     - `loss = criterion(y_pred_dev, y_train_dev)`: Calculates the loss between predictions and actual labels.\r\n",
    "     - `loss.backward()`: Backpropagates the error through the model.\r\n",
    "     - `optimizer.step()`: Updates the model parameters based on the gradients.\r\n",
    "     - `predicted = torch.argmax(y_pred_dev, 1)`: Determines the predicted classes by selecting the class with the highest probability.\r\n",
    "     - `trn_corr += torch.sum(predicted == y_train_dev)`: Accumulates the count of correct predictions.\r\n",
    "   - Accuracy for each epoch is calculated and compared to track the best training accuracy.\r\n",
    "\r\n",
    "4. **Testing Phase**:\r\n",
    "   - `model.eval()`: Puts the model in evaluation mode, disabling dropout and batch normalization.\r\n",
    "   - The testing loop (`for X_test, y_test in test_loader:`) processes the test data similarly to the training data but without the need to track gradients.\r\n",
    "   - Similar steps for predictions and accuracy calculations are followed, tracking the best test accuracy achieved.\r\n",
    "\r\n",
    "5. **Store and Update Metrics**:\r\n",
    "   - Accuracy for each epoch is appended to `train_correct` and `test_correct`.\r\n",
    "   - The highest accuracy for both training and testing is updated if the current epoch's accuracy surpasses previous records.\r\n",
    "\r\n",
    "This structure is fundamental for training deep learning models, providing a robust framework for monitoring training progress, adjusting model parameters,  .and evaluating model performance."
   ]
  },
  {
   "cell_type": "markdown",
   "metadata": {
    "id": "sy9iSzXjOAzE"
   },
   "source": [
    "### Evaluation\n",
    "Here you can see your model performance."
   ]
  },
  {
   "cell_type": "code",
   "execution_count": 22,
   "metadata": {
    "colab": {
     "base_uri": "https://localhost:8080/",
     "height": 501
    },
    "executionInfo": {
     "elapsed": 555,
     "status": "ok",
     "timestamp": 1713855839180,
     "user": {
      "displayName": "Pouria Esmaeili",
      "userId": "11812197324450409733"
     },
     "user_tz": -210
    },
    "id": "FP9GqYpxOAzE",
    "outputId": "b246790a-fa4b-4791-bd91-0c4ba297ce89"
   },
   "outputs": [
    {
     "data": {
      "image/png": "[encoded data removed]",
      "text/plain": [
       "<Figure size 640x480 with 1 Axes>"
      ]
     },
     "metadata": {},
     "output_type": "display_data"
    },
    {
     "name": "stdout",
     "output_type": "stream",
     "text": [
      "\n",
      "On train - best accuracy: 0.98, final accuracy: 0.98\n",
      "On test - best accuracy: 0.74, final accuracy: 0.73\n"
     ]
    }
   ],
   "source": [
    "plt.plot(train_correct, label='train accuracy')\n",
    "plt.plot(test_correct, label = 'test accuracy')\n",
    "plt.xlabel('Epoch')\n",
    "plt.ylabel('Accuracy')\n",
    "plt.legend(loc='lower right')\n",
    "plt.show();\n",
    "\n",
    "print(\"\\nOn train - best accuracy: {:.2f}, final accuracy: {:.2f}\".format(best_train_acc, train_correct[-1]))\n",
    "print(\"On test - best accuracy: {:.2f}, final accuracy: {:.2f}\".format(best_test_acc, test_correct[-1]))"
   ]
  },
  {
   "cell_type": "markdown",
   "metadata": {
    "id": "HvYYiWwkxLdh"
   },
   "source": [
    "This block of code plots the accuracy and graphically represents the training and test accuracy."
   ]
  },
  {
   "cell_type": "markdown",
   "metadata": {},
   "source": [
    "# Conclusion\n",
    "This project was about classification of images using a neural network. I really enjoyed working on this project and found it quite informative. This is a topic I think will be useful in the workforce and is something I want to continue to grow my knowledge on."
   ]
  },
  {
   "cell_type": "code",
   "execution_count": null,
   "metadata": {},
   "outputs": [],
   "source": []
  }
 ],
 "metadata": {
  "accelerator": "GPU",
  "colab": {
   "gpuType": "T4",
   "provenance": []
  },
  "kernelspec": {
   "display_name": "Python 3 (ipykernel)",
   "language": "python",
   "name": "python3"
  },
  "language_info": {
   "codemirror_mode": {
    "name": "ipython",
    "version": 3
   },
   "file_extension": ".py",
   "mimetype": "text/x-python",
   "name": "python",
   "nbconvert_exporter": "python",
   "pygments_lexer": "ipython3",
   "version": "3.11.7"
  },
  "widgets": {
   "application/vnd.jupyter.widget-state+json": {
    "3c2244ab27294e81b4e1ea68d225f72f": {
     "model_module": "@jupyter-widgets/base",
     "model_module_version": "1.2.0",
     "model_name": "LayoutModel",
     "state": {
      "_model_module": "@jupyter-widgets/base",
      "_model_module_version": "1.2.0",
      "_model_name": "LayoutModel",
      "_view_count": null,
      "_view_module": "@jupyter-widgets/base",
      "_view_module_version": "1.2.0",
      "_view_name": "LayoutView",
      "align_content": null,
      "align_items": null,
      "align_self": null,
      "border": null,
      "bottom": null,
      "display": null,
      "flex": null,
      "flex_flow": null,
      "grid_area": null,
      "grid_auto_columns": null,
      "grid_auto_flow": null,
      "grid_auto_rows": null,
      "grid_column": null,
      "grid_gap": null,
      "grid_row": null,
      "grid_template_areas": null,
      "grid_template_columns": null,
      "grid_template_rows": null,
      "height": null,
      "justify_content": null,
      "justify_items": null,
      "left": null,
      "margin": null,
      "max_height": null,
      "max_width": null,
      "min_height": null,
      "min_width": null,
      "object_fit": null,
      "object_position": null,
      "order": null,
      "overflow": null,
      "overflow_x": null,
      "overflow_y": null,
      "padding": null,
      "right": null,
      "top": null,
      "visibility": null,
      "width": null
     }
    },
    "41e23c85875240a7966934be57c42f36": {
     "model_module": "@jupyter-widgets/controls",
     "model_module_version": "1.5.0",
     "model_name": "FloatProgressModel",
     "state": {
      "_dom_classes": [],
      "_model_module": "@jupyter-widgets/controls",
      "_model_module_version": "1.5.0",
      "_model_name": "FloatProgressModel",
      "_view_count": null,
      "_view_module": "@jupyter-widgets/controls",
      "_view_module_version": "1.5.0",
      "_view_name": "ProgressView",
      "bar_style": "success",
      "description": "",
      "description_tooltip": null,
      "layout": "IPY_MODEL_a4cebbcf5cbc48ff95bbb36f02aeffac",
      "max": 20,
      "min": 0,
      "orientation": "horizontal",
      "style": "IPY_MODEL_e443ded0d4874c718c37ddd8710b6a5f",
      "value": 20
     }
    },
    "4607f1d326a24bcebfecf6fa2da03e9d": {
     "model_module": "@jupyter-widgets/controls",
     "model_module_version": "1.5.0",
     "model_name": "DescriptionStyleModel",
     "state": {
      "_model_module": "@jupyter-widgets/controls",
      "_model_module_version": "1.5.0",
      "_model_name": "DescriptionStyleModel",
      "_view_count": null,
      "_view_module": "@jupyter-widgets/base",
      "_view_module_version": "1.2.0",
      "_view_name": "StyleView",
      "description_width": ""
     }
    },
    "538d4b903cb5472991e23f95d6ef795c": {
     "model_module": "@jupyter-widgets/base",
     "model_module_version": "1.2.0",
     "model_name": "LayoutModel",
     "state": {
      "_model_module": "@jupyter-widgets/base",
      "_model_module_version": "1.2.0",
      "_model_name": "LayoutModel",
      "_view_count": null,
      "_view_module": "@jupyter-widgets/base",
      "_view_module_version": "1.2.0",
      "_view_name": "LayoutView",
      "align_content": null,
      "align_items": null,
      "align_self": null,
      "border": null,
      "bottom": null,
      "display": null,
      "flex": null,
      "flex_flow": null,
      "grid_area": null,
      "grid_auto_columns": null,
      "grid_auto_flow": null,
      "grid_auto_rows": null,
      "grid_column": null,
      "grid_gap": null,
      "grid_row": null,
      "grid_template_areas": null,
      "grid_template_columns": null,
      "grid_template_rows": null,
      "height": null,
      "justify_content": null,
      "justify_items": null,
      "left": null,
      "margin": null,
      "max_height": null,
      "max_width": null,
      "min_height": null,
      "min_width": null,
      "object_fit": null,
      "object_position": null,
      "order": null,
      "overflow": null,
      "overflow_x": null,
      "overflow_y": null,
      "padding": null,
      "right": null,
      "top": null,
      "visibility": null,
      "width": null
     }
    },
    "59ba4c18619842cd817c011363d246dd": {
     "model_module": "@jupyter-widgets/controls",
     "model_module_version": "1.5.0",
     "model_name": "HTMLModel",
     "state": {
      "_dom_classes": [],
      "_model_module": "@jupyter-widgets/controls",
      "_model_module_version": "1.5.0",
      "_model_name": "HTMLModel",
      "_view_count": null,
      "_view_module": "@jupyter-widgets/controls",
      "_view_module_version": "1.5.0",
      "_view_name": "HTMLView",
      "description": "",
      "description_tooltip": null,
      "layout": "IPY_MODEL_538d4b903cb5472991e23f95d6ef795c",
      "placeholder": "​",
      "style": "IPY_MODEL_4607f1d326a24bcebfecf6fa2da03e9d",
      "value": "100%"
     }
    },
    "81553aec42554725966ccd2c642c2cfc": {
     "model_module": "@jupyter-widgets/base",
     "model_module_version": "1.2.0",
     "model_name": "LayoutModel",
     "state": {
      "_model_module": "@jupyter-widgets/base",
      "_model_module_version": "1.2.0",
      "_model_name": "LayoutModel",
      "_view_count": null,
      "_view_module": "@jupyter-widgets/base",
      "_view_module_version": "1.2.0",
      "_view_name": "LayoutView",
      "align_content": null,
      "align_items": null,
      "align_self": null,
      "border": null,
      "bottom": null,
      "display": null,
      "flex": null,
      "flex_flow": null,
      "grid_area": null,
      "grid_auto_columns": null,
      "grid_auto_flow": null,
      "grid_auto_rows": null,
      "grid_column": null,
      "grid_gap": null,
      "grid_row": null,
      "grid_template_areas": null,
      "grid_template_columns": null,
      "grid_template_rows": null,
      "height": null,
      "justify_content": null,
      "justify_items": null,
      "left": null,
      "margin": null,
      "max_height": null,
      "max_width": null,
      "min_height": null,
      "min_width": null,
      "object_fit": null,
      "object_position": null,
      "order": null,
      "overflow": null,
      "overflow_x": null,
      "overflow_y": null,
      "padding": null,
      "right": null,
      "top": null,
      "visibility": null,
      "width": null
     }
    },
    "94a8edd7f3d744bb93484adb830cfac7": {
     "model_module": "@jupyter-widgets/controls",
     "model_module_version": "1.5.0",
     "model_name": "HBoxModel",
     "state": {
      "_dom_classes": [],
      "_model_module": "@jupyter-widgets/controls",
      "_model_module_version": "1.5.0",
      "_model_name": "HBoxModel",
      "_view_count": null,
      "_view_module": "@jupyter-widgets/controls",
      "_view_module_version": "1.5.0",
      "_view_name": "HBoxView",
      "box_style": "",
      "children": [
       "IPY_MODEL_59ba4c18619842cd817c011363d246dd",
       "IPY_MODEL_41e23c85875240a7966934be57c42f36",
       "IPY_MODEL_bdfdb96e667549c2b3107addc28d478a"
      ],
      "layout": "IPY_MODEL_3c2244ab27294e81b4e1ea68d225f72f"
     }
    },
    "a4cebbcf5cbc48ff95bbb36f02aeffac": {
     "model_module": "@jupyter-widgets/base",
     "model_module_version": "1.2.0",
     "model_name": "LayoutModel",
     "state": {
      "_model_module": "@jupyter-widgets/base",
      "_model_module_version": "1.2.0",
      "_model_name": "LayoutModel",
      "_view_count": null,
      "_view_module": "@jupyter-widgets/base",
      "_view_module_version": "1.2.0",
      "_view_name": "LayoutView",
      "align_content": null,
      "align_items": null,
      "align_self": null,
      "border": null,
      "bottom": null,
      "display": null,
      "flex": null,
      "flex_flow": null,
      "grid_area": null,
      "grid_auto_columns": null,
      "grid_auto_flow": null,
      "grid_auto_rows": null,
      "grid_column": null,
      "grid_gap": null,
      "grid_row": null,
      "grid_template_areas": null,
      "grid_template_columns": null,
      "grid_template_rows": null,
      "height": null,
      "justify_content": null,
      "justify_items": null,
      "left": null,
      "margin": null,
      "max_height": null,
      "max_width": null,
      "min_height": null,
      "min_width": null,
      "object_fit": null,
      "object_position": null,
      "order": null,
      "overflow": null,
      "overflow_x": null,
      "overflow_y": null,
      "padding": null,
      "right": null,
      "top": null,
      "visibility": null,
      "width": null
     }
    },
    "bdfdb96e667549c2b3107addc28d478a": {
     "model_module": "@jupyter-widgets/controls",
     "model_module_version": "1.5.0",
     "model_name": "HTMLModel",
     "state": {
      "_dom_classes": [],
      "_model_module": "@jupyter-widgets/controls",
      "_model_module_version": "1.5.0",
      "_model_name": "HTMLModel",
      "_view_count": null,
      "_view_module": "@jupyter-widgets/controls",
      "_view_module_version": "1.5.0",
      "_view_name": "HTMLView",
      "description": "",
      "description_tooltip": null,
      "layout": "IPY_MODEL_81553aec42554725966ccd2c642c2cfc",
      "placeholder": "​",
      "style": "IPY_MODEL_fed0741efbd742219955a856dea58927",
      "value": " 20/20 [03:28&lt;00:00, 10.35s/it]"
     }
    },
    "e443ded0d4874c718c37ddd8710b6a5f": {
     "model_module": "@jupyter-widgets/controls",
     "model_module_version": "1.5.0",
     "model_name": "ProgressStyleModel",
     "state": {
      "_model_module": "@jupyter-widgets/controls",
      "_model_module_version": "1.5.0",
      "_model_name": "ProgressStyleModel",
      "_view_count": null,
      "_view_module": "@jupyter-widgets/base",
      "_view_module_version": "1.2.0",
      "_view_name": "StyleView",
      "bar_color": null,
      "description_width": ""
     }
    },
    "fed0741efbd742219955a856dea58927": {
     "model_module": "@jupyter-widgets/controls",
     "model_module_version": "1.5.0",
     "model_name": "DescriptionStyleModel",
     "state": {
      "_model_module": "@jupyter-widgets/controls",
      "_model_module_version": "1.5.0",
      "_model_name": "DescriptionStyleModel",
      "_view_count": null,
      "_view_module": "@jupyter-widgets/base",
      "_view_module_version": "1.2.0",
      "_view_name": "StyleView",
      "description_width": ""
     }
    }
   }
  }
 },
 "nbformat": 4,
 "nbformat_minor": 4
}
